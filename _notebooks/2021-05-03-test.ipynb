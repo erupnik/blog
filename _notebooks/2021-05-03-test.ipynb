{
  "nbformat": 4,
  "nbformat_minor": 0,
  "metadata": {
    "colab": {
      "name": "2021-05-03-test.ipynb",
      "provenance": [],
      "collapsed_sections": []
    },
    "kernelspec": {
      "name": "python3",
      "display_name": "Python 3"
    },
    "language_info": {
      "name": "python"
    }
  },
  "cells": [
    {
      "cell_type": "markdown",
      "metadata": {
        "id": "tqpfFvnVxAhF"
      },
      "source": [
        "# Test of the automated import of notebooks into faspages blog"
      ]
    },
    {
      "cell_type": "code",
      "metadata": {
        "id": "5qMDyf6Qw-XJ"
      },
      "source": [
        "import numpy as np\n",
        "import matplotlib.pyplot as plt "
      ],
      "execution_count": null,
      "outputs": []
    },
    {
      "cell_type": "code",
      "metadata": {
        "id": "2bqxh5fYx3B9"
      },
      "source": [
        "x = range(0,100,5)\n",
        "y = np.random(len(x))\n",
        "\n",
        "plt.plot(x,y)\n",
        "print(\"Test SUCCESS!\")"
      ],
      "execution_count": null,
      "outputs": []
    }
  ]
}